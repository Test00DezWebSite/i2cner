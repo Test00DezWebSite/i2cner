{
 "cells": [
  {
   "cell_type": "code",
   "execution_count": 1,
   "metadata": {},
   "outputs": [],
   "source": [
    "import numpy as np\n",
    "import csv\n",
    "import pandas as pd\n",
    "import matplotlib.pyplot as plt\n",
    "from collections import OrderedDict \n",
    "import json\n",
    "%matplotlib inline\n",
    "\n",
    "\n",
    "#step 1 - read saved data, variables DONE\n",
    "#step 1.5 - ignore comments\n",
    "#step 2 - read from VD file - net-generation, net-generation by each tech, system cost, net co2 emissions\n",
    "#step 3 - store each of the above in an array\n",
    "#step 4 - generate plots\n",
    "nsamples=20\n",
    "nvar=10\n",
    "ipdat=OrderedDict()\n",
    "with open('random_samples.json') as fjson:\n",
    "    ipdat = json.load(fjson)\n",
    "    \n",
    "co2emi=[]\n",
    "syscost=[]\n",
    "share_pws=[]\n",
    "share_soec=[]\n",
    "share_pemec=[]\n",
    "share_sofc=[]\n",
    "share_pemfc=[]\n",
    "share_ccs_gas=[]\n",
    "share_ccs_coal=[]\n",
    "colname=[]\n",
    "for i in range(1,10):\n",
    "    colname.append(\"col\"+str(i))"
   ]
  },
  {
   "cell_type": "code",
   "execution_count": null,
   "metadata": {
    "scrolled": true
   },
   "outputs": [],
   "source": [
    "for j in range(1,21):\n",
    "    dbname='sa'+str(j)+'.VD'\n",
    "    rawdf = pd.read_csv(dbname,comment='*')#, delimiter=',')#, usecols = colfilter)\n",
    "    rawdf.columns=colname\n",
    "    cost=rawdf.loc[rawdf.col1=='ObjZ']['col9'].to_numpy()\n",
    "    syscost.append(float(cost[0]))\n",
    "    \n",
    "print(rawdf)\n"
   ]
  },
  {
   "cell_type": "code",
   "execution_count": null,
   "metadata": {
    "scrolled": true
   },
   "outputs": [],
   "source": [
    "fig,ax=plt.subplots(1,nvar,sharey=True,figsize=(20,3))\n",
    "\n",
    "for idx, key in enumerate(ipdat):\n",
    "    xvals=ipdat[key][0:20]\n",
    "    ax[idx].scatter(xvals,syscost)\n",
    "\n",
    "fig.savefig('syscost.png',bbox_inches='tight', dpi=300)"
   ]
  },
  {
   "cell_type": "code",
   "execution_count": 4,
   "metadata": {},
   "outputs": [
    {
     "name": "stdout",
     "output_type": "stream",
     "text": [
      "1\n",
      "[2.68472100e+02 3.11778133e-02 9.44327528e-01 ... 2.41232163e-02\n",
      " 4.64703190e-02 4.64703190e-02]\n"
     ]
    }
   ],
   "source": [
    "co2emi=[]\n",
    "for j in range(1,2):\n",
    "    dbname='sa'+str(j)+'.VD'\n",
    "    print(j)\n",
    "    rawdf = pd.read_csv(dbname,comment='*')#, delimiter=',')#, usecols = colfilter)\n",
    "    rawdf.columns=colname\n",
    "    emi=rawdf.loc[(rawdf['col1']=='VAR_FOut') & (rawdf['col2']=='ELCCO2')]['col9'].to_numpy()\n",
    "    print(emi)\n",
    "#    co2emi.append(sum(emi))\n",
    "\n",
    "#print(len(co2emi))\n",
    "#print(co2emi)"
   ]
  },
  {
   "cell_type": "code",
   "execution_count": 10,
   "metadata": {},
   "outputs": [
    {
     "name": "stdout",
     "output_type": "stream",
     "text": [
      "[2499.6522889372413, 2735.9336569130965, 2905.144230911709, 2735.3196594359524, 3523.3080353584583, 2562.871691696316, 3557.6445161388933, 3269.8630996643833, 3045.4041122915437, 3584.652287426597, 3208.7596217941996, 3368.1091436548786, 2681.5673412280717, 3203.956833107947, 3315.78460701211, 2791.7750819346666, 3585.9833752886343, 3502.936699475634, 3433.9956454513826, 2880.968989165848, 3592.163537513735, 2570.997737647038, 3332.9138919462252, 2920.6385758494616, 2846.1089848209253, 3424.0809126229856, 3604.7050822418487, 2752.333333679353, 3464.035827658378, 3436.962790276373]\n"
     ]
    }
   ],
   "source": [
    "print(ipdat['pwsi'])"
   ]
  }
 ],
 "metadata": {
  "kernelspec": {
   "display_name": "Python 3",
   "language": "python",
   "name": "python3"
  },
  "language_info": {
   "codemirror_mode": {
    "name": "ipython",
    "version": 3
   },
   "file_extension": ".py",
   "mimetype": "text/x-python",
   "name": "python",
   "nbconvert_exporter": "python",
   "pygments_lexer": "ipython3",
   "version": "3.7.3"
  }
 },
 "nbformat": 4,
 "nbformat_minor": 2
}
