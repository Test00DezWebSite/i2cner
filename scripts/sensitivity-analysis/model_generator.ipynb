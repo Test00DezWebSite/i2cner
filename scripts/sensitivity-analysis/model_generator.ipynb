{
 "cells": [
  {
   "cell_type": "code",
   "execution_count": 1,
   "metadata": {},
   "outputs": [],
   "source": [
    "import numpy as np\n",
    "import matplotlib.pyplot as plt\n",
    "import seaborn as sns\n",
    "import random\n",
    "import os\n",
    "from distutils.dir_util import copy_tree\n",
    "from xlrd import open_workbook\n",
    "from xlutils.copy import copy\n",
    "import json\n",
    "\n",
    "runs=30\n",
    "rng = [0.8,1.2]\n",
    "ndist=50000\n",
    "\n",
    "rawdat={}\n",
    "lcs={}\n",
    "samples={}\n",
    "\n",
    "emifac=1e6\n",
    "\n",
    "pwsefflb=0.49875\n",
    "pwseffub=0.5775\n",
    "\n",
    "#pwsemilb=0.456\n",
    "pwsemilb=0.2/emifac\n",
    "pwsemiub=5.405/emifac\n",
    "\n",
    "soecemilb=0.2/emifac\n",
    "soecemiub=5.405/emifac\n",
    "\n",
    "rawdat['pwsi']=3088.0\n",
    "rawdat['pwseff']=0.525\n",
    "rawdat['pwsemi']=1.08/emifac\n",
    "rawdat['soeci']=1388\n",
    "rawdat['soecemi']=1.08/emifac\n",
    "rawdat['pemeci']=3800\n",
    "rawdat['pemfci']=7339\n",
    "rawdat['sofci']=7339\n",
    "rawdat['ccsgi']=2626.0\n",
    "rawdat['ccsci']=5252.0\n",
    "\n",
    "lcs['pwsi']=[1001.15/3088,(1001.15/3088)]\n",
    "lcs['pwsemi']=[0.72/1.08,(0.72/1.08)]\n",
    "lcs['soeci']=[450.0/1388,(450.0/1388)]\n",
    "lcs['soecemi']=[0.72/1.08,(0.72/1.08)]\n",
    "lcs['pemeci']=[1500/3800.0,400.0/3800.0,(400.0/3800.0)]\n",
    "lcs['pemfci']=[4000.0/7339,3000.0/7339,(3000.0/7339)]\n",
    "lcs['sofci']=[4000.0/7339,3000.0/7339,(3000.0/7339)]\n",
    "lcs['ccsgi']=[1422/2626.0,(1422/2626.0)]\n",
    "lcs['ccsci']=[4091/5252.0,(4091/5252.0)]\n"
   ]
  },
  {
   "cell_type": "code",
   "execution_count": 2,
   "metadata": {},
   "outputs": [
    {
     "name": "stdout",
     "output_type": "stream",
     "text": [
      "D:\\shared-vm\\sa_scripts\n",
      "D:\\shared-vm\\sa_scripts\\template\n"
     ]
    }
   ],
   "source": [
    "for key in rawdat:\n",
    "    mean=rawdat[key]\n",
    "    if key=='pwseff':\n",
    "        l1=pwsefflb\n",
    "        l2=pwseffub\n",
    "        dist=np.sort(np.random.triangular(l1,mean,l2,size=ndist))\n",
    "    elif key=='pwsemi':\n",
    "        l1=pwsemilb\n",
    "        l2=pwsemiub\n",
    "        dist=np.sort(np.random.triangular(l1,mean,l2,size=ndist))\n",
    "    elif key=='soecemi':\n",
    "        l1=soecemilb\n",
    "        l2=soecemiub\n",
    "        dist=np.sort(np.random.triangular(l1,mean,l2,size=ndist))\n",
    "    else:\n",
    "        l1=rng[0]*mean\n",
    "        l2=rng[1]*mean\n",
    "        sigma=np.std([l1,mean,l2])/3.2\n",
    "        dist=np.sort(np.random.normal(loc=mean, scale=sigma, size=ndist))\n",
    "        # filter\n",
    "        for j in range(len(dist)):\n",
    "            if dist[j]<l1 or dist[j]>l2:\n",
    "                dist[j]=0\n",
    "        dist=np.trim_zeros(dist)\n",
    "    dlen=len(dist)\n",
    "    medloc=0\n",
    "    for k in range(dlen):\n",
    "        if dist[k]>mean:\n",
    "            medloc=k\n",
    "            break\n",
    "    idx1=random.sample(range(medloc), int(runs/2))\n",
    "    idx2=random.sample(range(medloc+1,dlen), int(runs/2))\n",
    "    idx=idx1+idx2\n",
    "    random.shuffle(idx)\n",
    "    slst=[]\n",
    "    for i in range(len(idx)):\n",
    "        slst.append(dist[idx[i]])\n",
    "    samples[key]=slst\n",
    "\n",
    "# put model template in PWD, in folder titled \"template\"\n",
    "path=os.getcwd()\n",
    "print(path)\n",
    "src=path+'\\\\template'\n",
    "print(src)\n",
    "\n"
   ]
  },
  {
   "cell_type": "code",
   "execution_count": 3,
   "metadata": {},
   "outputs": [],
   "source": [
    "#create empty folders and populate with template files\n",
    "\n",
    "for i in range(1,runs+1):\n",
    "    folname='\\\\sa'+str(i)\n",
    "    newdir=path+folname\n",
    "    os.mkdir(newdir)\n",
    "    copy_tree(src,newdir)\n",
    "    "
   ]
  },
  {
   "cell_type": "code",
   "execution_count": 4,
   "metadata": {},
   "outputs": [],
   "source": [
    "cellpos={}\n",
    "fnames={}\n",
    "lcinc={}\n",
    "\n",
    "cellpos['pwsi']='I56'\n",
    "cellpos['pwseff']='G55'\n",
    "cellpos['pwsemi']='F31'\n",
    "cellpos['soeci']='I64'\n",
    "cellpos['soecemi']='F48'\n",
    "cellpos['pemeci']='I68'\n",
    "cellpos['pemfci']='I46'\n",
    "cellpos['sofci']='I51'\n",
    "cellpos['ccsgi']='I38'\n",
    "cellpos['ccsci']='I34'\n",
    "\n",
    "fnames['pwsi']='\\\\SubRES_TMPL\\\\SubRES_NewTechs.xls'\n",
    "fnames['pwseff']='\\\\SubRES_TMPL\\\\SubRES_NewTechs.xls'\n",
    "fnames['pwsemi']='\\\\SubRES_TMPL\\\\SubRes_NewTechs_Trans.XLS'\n",
    "fnames['soeci']='\\\\SubRES_TMPL\\\\SubRES_NewTechs.xls'\n",
    "fnames['soecemi']='\\\\BY_Trans.XLS'\n",
    "fnames['pemeci']='\\\\SubRES_TMPL\\\\SubRES_NewTechs.xls'\n",
    "fnames['pemfci']='\\\\SubRES_TMPL\\\\SubRES_NewTechs.xls'\n",
    "fnames['sofci']='\\\\SubRES_TMPL\\\\SubRES_NewTechs.xls'\n",
    "fnames['ccsgi']='\\\\SubRES_TMPL\\\\SubRES_NewTechs.xls'\n",
    "fnames['ccsci']='\\\\SubRES_TMPL\\\\SubRES_NewTechs.xls'"
   ]
  },
  {
   "cell_type": "code",
   "execution_count": 5,
   "metadata": {},
   "outputs": [],
   "source": [
    "for obj in samples:\n",
    "    for j in range(runs):\n",
    "        wbloc=path+'\\\\sa'+str(j+1)+fnames[obj]\n",
    "        rb = open_workbook(wbloc)\n",
    "        wb = copy(rb)      \n",
    "        s = wb.get_sheet(0)\n",
    "        pos=cellpos[obj]\n",
    "        r=int(pos[1:])-1\n",
    "        c=ord(pos[0])-65\n",
    "        s.write(r,c,samples[obj][j])\n",
    "        if obj != \"pwseff\":\n",
    "            for i in range(len(lcs[obj])):\n",
    "                s.write(r+i+1,c,((lcs[obj][i])*samples[obj][j]))\n",
    "        wb.save(wbloc)"
   ]
  },
  {
   "cell_type": "code",
   "execution_count": 6,
   "metadata": {},
   "outputs": [],
   "source": [
    "with open('random_samples.json','w') as f:\n",
    "    json.dump(samples,f)\n",
    "\n",
    "with open('random_samples.json') as f:\n",
    "    readtest = json.load(f)"
   ]
  },
  {
   "cell_type": "code",
   "execution_count": 7,
   "metadata": {},
   "outputs": [
    {
     "name": "stdout",
     "output_type": "stream",
     "text": [
      "[1.0769843941159696e-06, 9.441640963933115e-07, 1.561737716698952e-06, 4.793203733130133e-06, 2.6643165899915185e-06, 6.885321589244556e-07, 2.160329145579169e-06, 5.235287608231587e-07, 3.3819256370646975e-06, 1.950023758422388e-06, 4.728763603239762e-07, 1.0405301932376437e-06, 1.0185976499490211e-06, 2.019242098230208e-06, 4.831380818874177e-07, 3.964602078312375e-06, 7.856343926826427e-07, 2.677898040648386e-06, 1.0535223816964582e-06, 4.280930188666911e-06, 1.5503446234662408e-06, 2.0661006946145425e-06, 8.26965152260423e-07, 1.8326276725674528e-06, 3.1435140691341393e-06, 9.382476080326889e-07, 9.972797427931688e-07, 1.1569312857921069e-06, 1.0076980522508037e-06, 9.59442431845915e-07]\n"
     ]
    }
   ],
   "source": [
    "#ooi=samples['soeci']\n",
    "#sns.distplot(ooi)\n",
    "#print(np.sort(ooi))\n",
    "print(samples['pwsemi'])"
   ]
  }
 ],
 "metadata": {
  "kernelspec": {
   "display_name": "Python 3",
   "language": "python",
   "name": "python3"
  },
  "language_info": {
   "codemirror_mode": {
    "name": "ipython",
    "version": 3
   },
   "file_extension": ".py",
   "mimetype": "text/x-python",
   "name": "python",
   "nbconvert_exporter": "python",
   "pygments_lexer": "ipython3",
   "version": "3.7.3"
  }
 },
 "nbformat": 4,
 "nbformat_minor": 2
}
